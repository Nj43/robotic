{
 "cells": [
  {
   "cell_type": "markdown",
   "metadata": {},
   "source": [
    "# Inverse kinematics\n",
    "This notebook considers the problem of inverse kinematics, ie solving at each control cycle of the robot a quadratic program from the derivatives (jacobian) of the current state. It introduces the basic function to compute the Jacobians of the robot, and how to use them to compute an inverse-kinematics control law. One of the key difficulties is to understand in which frames each quantities is computed (might be in the world frame, in the local frame attached to the end effector, in some arbitrary goal frame, etc), as we should never mixed quantities expressed in different frames without transporting them in the right frame. \n"
   ]
  },
  {
   "cell_type": "markdown",
   "metadata": {},
   "source": [
    "**Student Name : Nayoung KWON**\n",
    "\n",
    "**Student ID :2400100**"
   ]
  },
  {
   "cell_type": "code",
   "execution_count": 486,
   "metadata": {},
   "outputs": [],
   "source": [
    "import magic_donotload  # noqa: F401"
   ]
  },
  {
   "cell_type": "markdown",
   "metadata": {},
   "source": [
    "## Set up\n",
    "We will MeshCat for visualization and NumPy for linear algebra. Note that the [@ operator](https://numpy.org/doc/stable/reference/routines.linalg.html#the-operator) is a way to compute the matrix (dot) product between two NumPy arrays, similar to ``np.dot(A, B)``."
   ]
  },
  {
   "cell_type": "code",
   "execution_count": 487,
   "metadata": {},
   "outputs": [],
   "source": [
    "import pinocchio as pin\n",
    "import numpy as np\n",
    "import time\n",
    "from numpy.linalg import pinv,inv,norm,svd,eig\n",
    "from tp2.tiago_loader import loadTiago\n",
    "import matplotlib.pylab as plt; plt.ion()\n",
    "from utils.meshcat_viewer_wrapper import MeshcatVisualizer"
   ]
  },
  {
   "cell_type": "markdown",
   "metadata": {},
   "source": [
    "We will use the [Tiago](https://youtu.be/6BwRqwD066g) robot, a mobile manipulator from PAL Robotics:"
   ]
  },
  {
   "cell_type": "code",
   "execution_count": 488,
   "metadata": {},
   "outputs": [
    {
     "name": "stdout",
     "output_type": "stream",
     "text": [
      "You can open the visualizer by visiting the following URL:\n",
      "http://127.0.0.1:7035/static/\n"
     ]
    }
   ],
   "source": [
    "robot = loadTiago()\n",
    "viz = MeshcatVisualizer(robot)"
   ]
  },
  {
   "cell_type": "markdown",
   "metadata": {},
   "source": [
    "Click on the link above to open the viewer in a separate window, or execute the following cell to embed the viewer here:"
   ]
  },
  {
   "cell_type": "code",
   "execution_count": 489,
   "metadata": {},
   "outputs": [
    {
     "data": {
      "text/html": [
       "\n",
       "            <div style=\"height: 400px; width: 100%; overflow-x: auto; overflow-y: hidden; resize: both\">\n",
       "            <iframe src=\"http://127.0.0.1:7035/static/\" style=\"width: 100%; height: 100%; border: none\"></iframe>\n",
       "            </div>\n",
       "            "
      ],
      "text/plain": [
       "<IPython.core.display.HTML object>"
      ]
     },
     "execution_count": 489,
     "metadata": {},
     "output_type": "execute_result"
    }
   ],
   "source": [
    "viz.viewer.jupyter_cell()"
   ]
  },
  {
   "cell_type": "markdown",
   "metadata": {},
   "source": [
    "Tiago consists of:\n",
    "\n",
    "- A mobile base that can move in the plane (the corresponding joint will be a *floating base* in $SE(2)$, thus with three degrees of freedom).\n",
    "- A manipulator arm (seven DOFs).\n",
    "- An articulated head (two DOFs).\n",
    "- A prismatic axis moving vertically (one DOF), on which arm and head are mounted.\n",
    "- Two extra joints to represent the wheels under the mobile base (two DOFs), which we won't use in this tutorial.\n",
    "\n",
    "The wheel and the base rotations are represented by the vector $[\\cos \\theta\\ \\sin \\theta]$ corresponding to their angle $\\theta$. This choice of representation results in a larger vector, subject to the constraint $\\cos(\\theta)^2 + \\sin(\\theta)^2 = 1$, but with no discontinuity at the boundary of the angular interval chosen to select a unique angle. The dimension of the configuration space (equivalently, the size of the configuration vector) is then:\n",
    "\n",
    "| Joint          | DOFs | Dim. of config. repr. | Dim. of tangent repr. |\n",
    "|----------------|------|-----------------------|-----------------------|\n",
    "| Mobile base    | 3    | 4  | 3 |\n",
    "| Manipulator    | 7    | 7  | 7 |\n",
    "| Head           | 2    | 2  | 2 |\n",
    "| Prismatic axis | 1    | 1  | 1 |\n",
    "| Wheels         | 2    | 4  | 2 |\n",
    "| **Total**      | **15** | **18** | **15** |\n",
    "\n",
    "You can check these values in ``robot.model.nq`` and ``robot.model.nv``.\n",
    "\n",
    "The configuration is represented by a vector of larger dimension, subject to constraints $\\cos(\\theta)^2 + \\sin(\\theta)^2 = 1$. It is not possible to randomly sample a configuration vector $q$ using the distributions from NumPy, as the results won't respect these constraints. Similarly, we should take care when integrating velocities, as summing a configuration $q$ with a velocity $v$ is undefined (dimensions don't match). Two functions in Pinocchio implements these functionnalities."
   ]
  },
  {
   "cell_type": "code",
   "execution_count": 490,
   "metadata": {},
   "outputs": [],
   "source": [
    "q = pin.randomConfiguration(robot.model)\n",
    "vq = np.random.rand(robot.model.nv)*2 - 1\n",
    "DT = 1e-3\n",
    "qnext = pin.integrate(robot.model,q,vq*DT)"
   ]
  },
  {
   "cell_type": "markdown",
   "metadata": {},
   "source": [
    "Here is a simple example where we move the robot in the viewer following a constant (random) velocity:"
   ]
  },
  {
   "cell_type": "code",
   "execution_count": 491,
   "metadata": {},
   "outputs": [],
   "source": [
    "for t in range(1000):\n",
    "    q = pin.integrate(robot.model,q,vq*DT)\n",
    "    viz.display(q)\n",
    "    time.sleep(DT/10)"
   ]
  },
  {
   "cell_type": "markdown",
   "metadata": {},
   "source": [
    "The robot is mobile, hence the camera view in the viewer is not always centered. Also, don't worry if you see the torso fly above the prismatic joint: we are not including joint limits yet 😉"
   ]
  },
  {
   "cell_type": "markdown",
   "metadata": {},
   "source": [
    "## Forward kinematics and Jacobian\n",
    "\n",
    "Here's a quick recap on forward kinematics. Let's consider two frames of interest: the first one, named \"frametool\" is at the tip of the end-effector; the second one, named \"framebasis\", is at the fore of the robot's mobile base, 10 cm above the ground. Both are represented in MeshCat by a triad of RGB arrows:"
   ]
  },
  {
   "cell_type": "code",
   "execution_count": 492,
   "metadata": {},
   "outputs": [],
   "source": [
    "IDX_TOOL = robot.model.getFrameId('frametool')\n",
    "IDX_BASIS = robot.model.getFrameId('framebasis')"
   ]
  },
  {
   "cell_type": "code",
   "execution_count": 493,
   "metadata": {},
   "outputs": [
    {
     "data": {
      "text/plain": [
       "Frame name: frametool paired to (parent joint/ previous frame)(9/52)\n",
       "with relative placement wrt parent joint:\n",
       "  R =\n",
       "1 0 0\n",
       "0 1 0\n",
       "0 0 1\n",
       "  p =    0    0 0.08\n",
       "containing inertia:\n",
       "  m = 0\n",
       "  c = 0 0 0\n",
       "  I = \n",
       "0 0 0\n",
       "0 0 0\n",
       "0 0 0"
      ]
     },
     "execution_count": 493,
     "metadata": {},
     "output_type": "execute_result"
    }
   ],
   "source": [
    "robot.model.frames[IDX_TOOL]"
   ]
  },
  {
   "cell_type": "markdown",
   "metadata": {},
   "source": [
    "The `frames` vector in a `robot.model` contains relative placements in $SE(3)$: ``frames[i]`` gives the placement from frame $i$ to its parent frame in the kinematic tree. If the frame is that of a link rather than a joint, it will also contain non-zero inertias."
   ]
  },
  {
   "cell_type": "markdown",
   "metadata": {},
   "source": [
    "### Computing frame placement\n",
    "\n",
    "The global placement of the frames is computed by the Pinocchio function `framesForwardKinematics`, whose results are stored in `robot.data.oMf`. Read `oMf` as ${}^0 M_f$, where $0$ is the index of our inertial frame (*a.k.a.* the world frame)."
   ]
  },
  {
   "cell_type": "code",
   "execution_count": 494,
   "metadata": {},
   "outputs": [
    {
     "name": "stdout",
     "output_type": "stream",
     "text": [
      "Tool placement:   R =\n",
      "-0.188451 -0.855952 -0.481489\n",
      " 0.562241  -0.49601  0.661709\n",
      "-0.805215 -0.146013  0.574725\n",
      "  p =  1.87388  1.12723 0.883336\n",
      "\n",
      "Basis placement:   R =\n",
      "0.738859 -0.67386        0\n",
      " 0.67386 0.738859        0\n",
      "       0        0        1\n",
      "  p =  1.64433 0.989934     0.15\n",
      "\n"
     ]
    }
   ],
   "source": [
    "pin.framesForwardKinematics(robot.model, robot.data, q)\n",
    "\n",
    "oMtool = robot.data.oMf[IDX_TOOL]\n",
    "oMbasis = robot.data.oMf[IDX_BASIS]\n",
    "\n",
    "print(\"Tool placement:\",oMtool)\n",
    "print(\"Basis placement:\",oMbasis)"
   ]
  },
  {
   "cell_type": "markdown",
   "metadata": {},
   "source": [
    "It is important to note the instruction pattern, which is standard in all Pinocchion functions: first, call an algorithm (here ``pin.framesForwardKinematics``); then, access the results in *robot.data*. Our `robot.model` contains the abstract structure (the model) of our robot, whereas `robot.data` contains a particular instance of that structure, populated by the algorithm for a given instance of configuration, velocity, etc."
   ]
  },
  {
   "cell_type": "markdown",
   "metadata": {},
   "source": [
    "The tool-placement matrix $^0M_{tool}$ represents the displacement between the tool frame $F_{tool}$ and the world frame $F_{world}$. It is the affine transform matrix that maps vectors expressed in $F_{tool}$ to their corresponding vectors expressed in $F_0$. It consists of a $3 \\times 3$ rotation matrix $^0 R_{tool}$, and a 3D position vector:\n",
    "\n",
    "$$\n",
    "^0T_{tool} = {}^0 (p_{tool} - p_{0}) = {}^0 p_{tool} - {}^0 p_{0} = {}^0 p_{tool}.\n",
    "$$\n",
    "\n",
    "This is the vector from the origin of frame $F_0$ to the origin of frame $F_{tool}$, expressed in the world frame $F_0$. We can also express $p_{tool} - p_{0}$ in the tool frame $F_{tool}$ by multiplying $^0T_{tool}$ by ${}^{tool} R _0 = {}^{0}R_{tool}^T$:\n",
    "\n",
    "$$\n",
    "{}^{tool} (p_{tool} - p_0) = - {}^{tool}p_0 = R_0 {}^0 T_{tool}.\n",
    "$$"
   ]
  },
  {
   "cell_type": "markdown",
   "metadata": {},
   "source": [
    "Take care with the multiplication operator in NumPy: the operator ``*`` is (unintuitively) mapped to the coefficient-wise multiplication (*a.k.a.* the [Hadamard product](Hadamard product)), that is, **not** the usual matrix multiplication. You should use the operator ``@`` to get an actual matrix-to-matrix dot product. (Or never mind: you will likely be tricked at least once by this, then remember it out of spite 😅) "
   ]
  },
  {
   "cell_type": "markdown",
   "metadata": {},
   "source": [
    "### Computing Jacobians\n",
    "The Jacobian of a frame of the robot is computed using `pin.computeFrameJacobian`:"
   ]
  },
  {
   "cell_type": "code",
   "execution_count": 495,
   "metadata": {},
   "outputs": [
    {
     "data": {
      "text/plain": [
       "(6, 15)"
      ]
     },
     "execution_count": 495,
     "metadata": {},
     "output_type": "execute_result"
    }
   ],
   "source": [
    "Jtool = pin.computeFrameJacobian(robot.model, robot.data, q, IDX_TOOL)\n",
    "Jtool.shape"
   ]
  },
  {
   "cell_type": "markdown",
   "metadata": {},
   "source": [
    "This matrix has 6 rows and ``robot.model.nv == 15`` columns. It corresponds to the \"body\" 6D velocity of the end effector, that is, vectors in the image of this Jacobian matrix are expressed in $F_{tool}$ rather than in $F_0$. Let's first focus on the first three rows. Those correspond to the linear velocity of the tool frame, in the tool frame:"
   ]
  },
  {
   "cell_type": "code",
   "execution_count": 496,
   "metadata": {},
   "outputs": [],
   "source": [
    "Jtool3 = Jtool[:3,:]"
   ]
  },
  {
   "cell_type": "markdown",
   "metadata": {},
   "source": [
    "#### Jacobian as a velocity operator\n",
    "A first way to understand what is this matrix is to see that as an operator that converts the velocity in the configuration space to the linear velocity of the tool:"
   ]
  },
  {
   "cell_type": "code",
   "execution_count": 497,
   "metadata": {},
   "outputs": [],
   "source": [
    "vtool = Jtool3 @ vq"
   ]
  },
  {
   "cell_type": "markdown",
   "metadata": {},
   "source": [
    "But in which frame is $v_{tool}$ expressed? The choice in Pinocchio (following the principles described in [Rigid body dynamics algorithms](https://doi.org/10.1007/978-1-4899-7560-7)) is to express quantities in the local frame by default. Therefore, ``vtool`` here is ${}^{tool} v_{tool}$, expressed in the tool frame $F_{tool}$. We can compute the velocity in the world frame $F_0$ by applying the rotation matrix $^{0}R_{tool}$:"
   ]
  },
  {
   "cell_type": "code",
   "execution_count": 498,
   "metadata": {},
   "outputs": [],
   "source": [
    "tool_vtool = vtool\n",
    "o_vtool = oMtool.rotation @ vtool"
   ]
  },
  {
   "cell_type": "markdown",
   "metadata": {},
   "source": [
    "The resulting velocity, that we denote by ${}^0 v_{tool}$ here, is ${}^{tool} v_{tool}$ rotated to the world frame."
   ]
  },
  {
   "cell_type": "code",
   "execution_count": 499,
   "metadata": {},
   "outputs": [],
   "source": [
    "tool_Jtool = pin.computeFrameJacobian(robot.model, robot.data, q, IDX_TOOL, pin.LOCAL)\n",
    "tool_Jtool3 = tool_Jtool[:3,:]"
   ]
  },
  {
   "cell_type": "markdown",
   "metadata": {},
   "source": [
    "We are using long variable names here to keep track. (A common practice is to only shorten these variable names when their full meaning is clear from context.) We can generalize this notation to the Jacobian part dedidcated to linear velocity expressed in the world frame $F_0$:"
   ]
  },
  {
   "cell_type": "code",
   "execution_count": 500,
   "metadata": {},
   "outputs": [],
   "source": [
    "o_Jtool3 = oMtool.rotation @ tool_Jtool3"
   ]
  },
  {
   "cell_type": "markdown",
   "metadata": {},
   "source": [
    "To be more precise, the relation between Jacobian, motion and frame is:\n",
    "$$\n",
    "^{tool}J_{tool} \\dot{q} = ^{tool}\\xi_{tool} = \\begin{bmatrix} ^{tool}v_{tool} \\\\ ^{tool}\\omega_{tool} \\end{bmatrix}\n",
    "$$\n",
    "Here ${}^{tool} \\xi_{tool}$ is the *twist* (the instantaneous rigid-body motion, including both linear and angular velocity) from frame $F_{tool}$ to frame $F_0$, expressed in $F_{tool}$ itself. Mathematically, twist is just a name for any element of the Lie algebra $\\mathfrak{se}(3)$. We can interpret $^{tool}v_{tool}$ as the point velocity of the origin of frame $F_{tool}$, expressed in itself, and $^{tool}\\omega_{tool}$ as the instaneous rotation axis/amplitude."
   ]
  },
  {
   "cell_type": "markdown",
   "metadata": {},
   "source": [
    "#### Adjoint operator\n",
    "\n",
    "We can also compute the twist ${}^0 w_{tool}$ in the world frame. Its formula is given by:\n",
    "$$\n",
    "{}^{0}\\xi_{tool} = {}^{0}J_{tool}\\dot{q} = {}^{0}X_{tool}{}^{tool}\\xi_{tool} = ({}^{0}X_{tool}{}^{tool}J_{tool}) \\dot{q}\n",
    "$$\n",
    "where $^{0}X_{tool}$ is the *adjoint operator* related to $[{}^{0}R_{tool}, {}^{0}T_{tool}]$ that allows us to change frame for elements of $\\mathfrak{se}(3)$.\n",
    "It express:\n",
    "$$\n",
    "{}^{0}X_{tool} = \\begin{bmatrix} ^{0}R_{tool} &  [{}^{0}T_{tool}]_\\times {}^{0}R_{tool} \\\\\n",
    "0 & {}^{0}R_{tool} \\end{bmatrix}\n",
    "$$\n",
    "Recall that $^{tool}\\xi_{tool} = [^{tool}v_{tool}, ^{tool}\\omega_{tool}]$. We calculate:\n",
    "$$\n",
    "^{0}\\xi_{tool} =  {}^{0}X_{tool}{}^{tool}\\xi_{tool} = [{}^{0}R_{tool}{}^{tool}v_{tool} + {}^{0}T_{tool} \\times {}^{0}R_{tool}{}^{tool}\\omega_{tool},  {}^0R_{tool}{}^{tool}\\omega_{tool}]\n",
    "$$\n",
    "And we have:\n",
    "$$\n",
    "^{0}\\xi_{tool}=[^0v_{tool} + {}^0T_{tool} \\times {}^{0}\\omega_{tool}, ^{0}\\omega_{tool}]\n",
    "$$\n",
    "Note here that the angular component of $^{0}\\xi_{tool}$ is indeed $^{0}\\omega_{tool}$, but the linear part of $^{0}\\xi_{tool}$ is **not** the vector $^0v_{tool}$ from above. Instead, the Varignon formula applies. The interpretation of the linear part of $^{0}\\xi_{tool}$ is a little tricky: it corresponds to the instantaneous velocity of a point of the tool frame that coincides with the origin of the world frame, expressed in the world frame."
   ]
  },
  {
   "cell_type": "markdown",
   "metadata": {},
   "source": [
    "#### Jacobian as a derivative of frame placements\n",
    "\n",
    "Previously, we saw Jacobians as operators transforming configuration velocities into twists. A second interpretation of is to observe that it is the derivative of forward kinematics with respect to $q$. For the three first colums, it is the derivative of the vector $^0T_{tool} = {}^0(o_{tool} - o_0)$ the tool position in world frame. Indeed $^0T_{tool}$ is a function of $q$, $^0T_{tool}(q)$ in full writing. We can take its derivative with respect to $q$, itself express in the world frame,  denoted ${}^{0}\\frac{\\partial {}^{0}T_{tool}}{\\partial q}$. This derivative is equal to the Jacobian expressed in the world frame $F_0$:\n",
    "$$\n",
    "\\vphantom{\\frac{\\partial}{\\partial}}^{0}\\frac{\\partial ^0T_{tool}}{\\partial q} = {}^{0}J_{tool}^{(3)}.\n",
    "$$\n",
    "The global Jacobian is the same for the whole motion expression, using the algebra of the Lie group $SE(3)$:\n",
    "\n",
    "$$\n",
    "^{tool}J_{tool}(q) u = \\vphantom{\\frac{\\partial}{\\partial}}^{tool}\\frac{\\partial {}^0M_{tool}}{\\partial q} u = \\lim_{t \\to 0^+}\\frac{^{0}M_{tool}(q \\oplus_{\\mathcal{C}} tu) \\ominus_{SE(3)} \\vphantom{.}^{0}M_{tool}(q)}{t}\n",
    "$$\n",
    "\n",
    "where the $\\oplus_{\\mathcal{C}}$ operator is the exponential on the configuration space $\\mathcal{C}$, implemented for us by Pinocchio's `pin.integrate(model, q, dq)` function. You can think of it by analogy with $SE(3)$:\n",
    "\n",
    "$$\n",
    "{}^{0} M_{tool} \\oplus_{SE(3)} {}^{tool} \\xi_{tool} = {}^0 M_{tool} \\exp({}^{tool} \\xi_{tool})\n",
    "$$\n",
    "\n",
    "The minus operator $\\ominus_{SE(3)}$ corresponds to the logarithm:\n",
    "\n",
    "$$\n",
    "{}^{0} M_{goal} \\ominus_{SE(3)} {}^0 M_{tool} = \\log({}^0 M_{tool}^{-1} {}^0 M_{goal}) = \\log({}^{tool} M_{goal})\n",
    "$$\n",
    "\n",
    "In this expression, the resulting vector $\\log({}^{tool} M_{goal})$ belongs to the tool frame $F_{tool}$ (informally, $\\log({}^b M_a)$ is in frame $b$). In Lie groups, be it $SE(3)$ to describe rigid-body transformations, or $\\mathcal{C}$ the configuration space of our robot, things don't commute. If we had taken ${}^{0} M_{tool} \\ominus_{SE(3)} {}^{0} M_{goal}$ instead, we would have obtained a twist in the goal frame.\n",
    "\n",
    "To convince ourselves of these observations, let's check finite differences. We can take a small displacement $\\delta q$, and check that the change in position ${}^0 T_{tool}(q + \\delta q)$ matches the linear prediction ${}^{0}J_{tool}^{(3)} \\delta q$:\n"
   ]
  },
  {
   "cell_type": "code",
   "execution_count": 501,
   "metadata": {},
   "outputs": [
    {
     "name": "stdout",
     "output_type": "stream",
     "text": [
      "Full Jacobian in the tool frame:\n",
      "With a Jac: [ 0.667699    0.3858164  -0.14691418  0.78759426 -0.73747856 -0.07765543]\n",
      "With a log: [ 0.66769789  0.38581349 -0.14694521  0.78756582 -0.73747833 -0.07770427]\n",
      "\n",
      "Origin velocity in the world frame:\n",
      "With a Jac: [-0.38533136  0.08682461 -0.67841084]\n",
      "With a log: [-0.38531372  0.08680489 -0.67842735]\n",
      "With fdiff: [-0.38533693  0.08683355 -0.6784105 ]\n"
     ]
    }
   ],
   "source": [
    "# Sample between -0.001 and 0.001\n",
    "EPS = 1e-4\n",
    "u = (2 * np.random.rand(robot.model.nv) - 1)\n",
    "dq = u*EPS\n",
    "\n",
    "# q2 = q+dq\n",
    "q2 = pin.integrate(robot.model, q, dq)\n",
    "\n",
    "# tool position for q\n",
    "pin.framesForwardKinematics(robot.model,robot.data,q)\n",
    "o_M_tool = robot.data.oMf[IDX_TOOL].copy()\n",
    "o_T_tool = o_M_tool.translation\n",
    "\n",
    "# tool position for q+dq\n",
    "pin.framesForwardKinematics(robot.model,robot.data,q2)\n",
    "o_M_tool2 = robot.data.oMf[IDX_TOOL].copy()\n",
    "o_T_tool2 = o_M_tool2.translation\n",
    "\n",
    "print(\"Full Jacobian in the tool frame:\")\n",
    "print(f\"With a Jac: {tool_Jtool @ u}\")\n",
    "print(f\"With a log: {pin.log(o_M_tool.inverse() * o_M_tool2).vector / EPS}\")\n",
    "\n",
    "print(\"\\nOrigin velocity in the world frame:\")\n",
    "print(f\"With a Jac: {o_Jtool3 @ u}\")\n",
    "print(f\"With a log: {o_M_tool.rotation @ pin.log(o_M_tool.inverse() * o_M_tool2).linear / EPS}\")\n",
    "print(f\"With fdiff: {(o_T_tool2 - o_T_tool) / EPS}\")"
   ]
  },
  {
   "cell_type": "markdown",
   "metadata": {},
   "source": [
    "#### Frame options in Pinocchio\n",
    "\n",
    "Most algorithms accept an option to specify in wich frame the spatial quantity should be expressed. The two basic options are `pin.LOCAL` and `pin.WORLD`. When related to velocity, *LOCAL* is the linear velocity of the center of the local frame (the TOOL_IDX frame, here) and the angular velocity, both expressed in the local frame. With *WORLD* frame, this is the instantaneous motion expressed in the world frame. It is also composed of linear and angular velocity terms, but remember that the linear velocity term of a twist is different from classical linear velocity.\n",
    "\n",
    "Another option is provided for convenience, which gives the spatial velocity of the local frame, but the local frame axes aligned with the world frame. `pin.LOCAL_WORLD_ALIGNED` gives the linear velocity of the center of the local frame and the angular velocity, both expressed in the world frame. It is convenient especially when we are interested to consider the linear velocity as the derivative of the position. This is what we did above.\n",
    "\n",
    "To recap:\n",
    "- `pin.LOCAL` gives $^{tool}\\xi_{tool} = [^{tool}v_{tool}, ^{tool}\\omega_{tool}]$\n",
    "- `pin.WORLD` gives $^{0}\\xi_{tool} =\\vphantom{.}^{0}X_{tool}\\vphantom{.}^{tool}\\xi_{tool}=\\left(\\begin{array}{c|c} \n",
    "  ^0R_{tool} & [^0T_{tool}]_{\\times}\\vphantom{.}^0R_{tool} \\\\ \n",
    "  \\hline \n",
    "  0 & ^0R_{tool}\n",
    "\\end{array} \n",
    "\\right)\\vphantom{.}^{tool}\\xi_{tool} = [^0v_{tool} + {}^0T_{tool} \\times {}^{0}\\omega_{tool}, ^{0}\\omega_{tool}]$\n",
    "- `pin.LOCAL_WORLD_ALIGNED` gives $[^{0}v_{tool}, ^{0}\\omega_{tool}]=\\left(\n",
    "\\begin{array}{c|c} \n",
    "  ^0R_{tool} & 0 \\\\ \n",
    "  \\hline \n",
    "  0 & ^0R_{tool}\n",
    "\\end{array} \n",
    "\\right)\\vphantom{.}^{0}\\xi_{tool}$\n"
   ]
  },
  {
   "cell_type": "code",
   "execution_count": 502,
   "metadata": {},
   "outputs": [
    {
     "name": "stdout",
     "output_type": "stream",
     "text": [
      "With spatial Jacobian:        [-1.69801819  1.61657807  0.15414101  0.52021369  0.75722935 -0.57113147]\n",
      "With adjoint * body Jacobian: [-1.69801819  1.61657807  0.15414101  0.52021369  0.75722935 -0.57113146]\n",
      "o_Jtool3 from body Jacobian:  [-0.38537776  0.08688191 -0.67837714]\n",
      "Local-world-aligned Jacobian: [-0.38533136  0.08682461 -0.67841084]\n"
     ]
    }
   ],
   "source": [
    "# 0_w_tool and tool_w_tool\n",
    "tool_Jtool = pin.computeFrameJacobian(robot.model,robot.data,q,IDX_TOOL, pin.LOCAL)\n",
    "o_Jtool = pin.computeFrameJacobian(robot.model,robot.data,q,IDX_TOOL, pin.WORLD)\n",
    "print(f\"With spatial Jacobian:        {o_Jtool @ u}\")\n",
    "print(f\"With adjoint * body Jacobian: {oMtool.action @ (tool_Jtool @ u)}\")\n",
    "\n",
    "# 0_v_tool and tool_w_tool\n",
    "o_Jtool3 = oMtool.rotation @ tool_Jtool[:3, :]\n",
    "new_o_Jtool3 = pin.computeFrameJacobian(robot.model,robot.data,q,IDX_TOOL, pin.LOCAL_WORLD_ALIGNED)[:3,:]\n",
    "print(f\"o_Jtool3 from body Jacobian:  {o_Jtool3 @ u}\")\n",
    "print(f\"Local-world-aligned Jacobian: {new_o_Jtool3 @ u}\")"
   ]
  },
  {
   "cell_type": "markdown",
   "metadata": {},
   "source": [
    "You can also check out [this video](https://www.youtube.com/watch?v=MLFtHLTprE4) for more illustrations on these three frame options."
   ]
  },
  {
   "cell_type": "markdown",
   "metadata": {},
   "source": [
    "## Inverse kinematics for the moving the robot effector\n",
    "We will first move only the robot end effector, to reach a target defined by a frame F_goal."
   ]
  },
  {
   "cell_type": "code",
   "execution_count": 503,
   "metadata": {},
   "outputs": [],
   "source": [
    "# Goal placement, and integration in the viewer of the goal.\n",
    "oMgoal = pin.SE3(pin.Quaternion(-0.5, 0.58, -0.39, 0.52).normalized().matrix(), np.array([1.2, .4, .7]))\n",
    "viz.addBox('goal', [.1,.1,.1], [ .1,.1,.5, .6])\n",
    "viz.applyConfiguration('goal',oMgoal)"
   ]
  },
  {
   "cell_type": "markdown",
   "metadata": {},
   "source": [
    "### Position the effector (3D)\n",
    "\n",
    "It is time to write your first control law. Write a for loop to simulate the control cycles of the robot. At each control cycle, you should:\n",
    "\n",
    "* compute the Jacobian 3D in the world frame `o_Jtool3`\n",
    "* compute the vector from the tool to the goal, expressed in world frame: `o_TG = o_goal - o_tool`\n",
    "* compute the control law as `vq = pinv(o_Jtool3) @ o_TG`\n",
    "* integrate this during a duration `DT` to get to a new configuration `q`.\n",
    "\n",
    "You might want to start from the following initial configuration, or from any random one.\n",
    "\n",
    "Note that [`numpy.linalg.pinv`](https://numpy.org/doc/stable/reference/generated/numpy.linalg.pinv.html) in `pinv(J)` computes $J^+$, the Moore-Penrose pseudo-inverse of $J$. Precisely, for any vector $e$, $J^+ e$ is the solution of the linear least square problem:\n",
    "$\\min_x \\|Jx - e\\|_2^2.$ (If $J$ is not full rank and there are multiple such solutions, it corresponds to the one of minimum L2 norm $\\| x \\|$.)"
   ]
  },
  {
   "cell_type": "code",
   "execution_count": 504,
   "metadata": {},
   "outputs": [],
   "source": [
    "# Robot initial configuration\n",
    "q0 = np.array([ 0.  ,  0.  ,  1.  ,  0.  ,  0.18,  1.37, -0.24, -0.98,  0.98,\n",
    "                0.  ,  0.  ,  0.  ,  0.  , -0.13,  0.  ,  0.  ,  0.  ,  0.  ])\n",
    "DT = 1e-2  # seconds"
   ]
  },
  {
   "cell_type": "markdown",
   "metadata": {},
   "source": [
    "It is a good idea to store the values of the error between tool and goal (`o_TG`), to plot them later. For that, simply append each `o_TG` computed at every control cycle to a list:"
   ]
  },
  {
   "cell_type": "code",
   "execution_count": 505,
   "metadata": {},
   "outputs": [],
   "source": [
    "q = q0.copy()\n",
    "herr = [] # Log the value of the error between tool and goal.\n",
    "\n",
    "for i in range(500):  # Integrate over 2 second of robot life\n",
    "    \n",
    "    # REPLACE WITH YOUR CODE\n",
    "    pin.framesForwardKinematics(robot.model,robot.data,q)\n",
    "    pin.computeJointJacobians(robot.model,robot.data,q)\n",
    "    \n",
    "    oMtool = robot.data.oMf[IDX_TOOL]\n",
    "\n",
    "    #compute the Jacobian 3D in the world frame\n",
    "    o_Jtool3 = pin.computeFrameJacobian(robot.model,robot.data,q,IDX_TOOL,pin.LOCAL_WORLD_ALIGNED)[:3,:]\n",
    "\n",
    "    # compute the vector from the tool to the goal\n",
    "    o_tool = oMtool.translation\n",
    "    o_goal = oMgoal.translation  \n",
    "    o_TG = o_goal - o_tool\n",
    "    \n",
    "    # compute the control law\n",
    "    vq = pinv(o_Jtool3)@o_TG\n",
    "\n",
    "    q = pin.integrate(robot.model,q, vq * DT) \n",
    "\n",
    "    viz.display(q)\n",
    "    time.sleep(1e-3)\n",
    "\n",
    "    herr.append(o_TG) \n"
   ]
  },
  {
   "cell_type": "markdown",
   "metadata": {},
   "source": [
    "And the solution if you need it"
   ]
  },
  {
   "cell_type": "code",
   "execution_count": 506,
   "metadata": {},
   "outputs": [],
   "source": [
    "%do_not_load tp2/generated/inverse_kinematics_3d_loop"
   ]
  },
  {
   "cell_type": "markdown",
   "metadata": {},
   "source": [
    "It is interesting to plot the behavior of the robot. If the error at each iteration has been stored as a list of 3x1 matrices, the following code plots it."
   ]
  },
  {
   "cell_type": "code",
   "execution_count": 507,
   "metadata": {},
   "outputs": [
    {
     "data": {
      "text/plain": [
       "Text(0, 0.5, 'error (m)')"
      ]
     },
     "execution_count": 507,
     "metadata": {},
     "output_type": "execute_result"
    },
    {
     "data": {
      "image/png": "[encoded data removed]",
      "text/plain": [
       "<Figure size 640x480 with 1 Axes>"
      ]
     },
     "metadata": {},
     "output_type": "display_data"
    }
   ],
   "source": [
    "plt.plot(herr)\n",
    "plt.xlabel('control cycle (iter)')\n",
    "plt.ylabel('error (m)')"
   ]
  },
  {
   "cell_type": "markdown",
   "metadata": {},
   "source": [
    "We can observe that each component of the error converges to zero exponentially. The convergence is asymptotic. For faster convergence, increase the control law gain ($v_q = - \\lambda J^+ e$), where the gain $\\lambda$ was so far implicitly one."
   ]
  },
  {
   "cell_type": "markdown",
   "metadata": {},
   "source": [
    "### Place the end effector (6D)\n",
    "The previous control law brings the center of the effector toward the center of the goal frame. However, it does not control the orientation of the end effector: the axes of the two frames $F_{tool}$ and $F_{goal}$ do not converge.\n",
    "\n",
    "We now want to modify the control law to take into account both tool translation and tool orientation. For that, let us compute the error in $SE(3)$. We will use the full ${}^{0} J_{tool}$ rather than ${}^o J_{tool3}$, and compute the error vector as the generalized difference between the tool frame and the goal frame:\n",
    "\n",
    "$$^{tool}M_{goal} = \\vphantom{.}^{0}M_{tool}^{-1} \\vphantom{.}^{0}M_{goal}$$\n",
    "$$^{tool}\\xi_{goal} = \\vphantom{.}^{0}M_{tool} \\ominus_{SE(3)} \\vphantom{.}^{0}M_{tool} = \\log(^{tool}M_{goal})$$\n",
    "where $^{tool}\\xi_{goal}$ is a twist in the local frame."
   ]
  },
  {
   "cell_type": "code",
   "execution_count": 508,
   "metadata": {},
   "outputs": [],
   "source": [
    "toolMgoal = oMtool.inverse() * oMgoal\n",
    "tool_w = pin.log(toolMgoal).vector"
   ]
  },
  {
   "cell_type": "markdown",
   "metadata": {},
   "source": [
    "This error `tool_w` is can be interpreted as the twist that should be applied during one second to displace the tool frame $F_{tool}$ (located at ${}^0 M_{tool}$) to the goal frame $F_{goal}$ (located at ${}^0 M_{goal}$).\n",
    "\n",
    "Implement a second control law, following the same pattern as with positions. At each control cycle, you should:\n",
    "\n",
    "* compute the displacement between $F_{tool}$ and $F_{goal}$, denoted by ``toolMgoal``\n",
    "* compute the error twist ``tool_w`` using the logarithm over $SE(3)$\n",
    "* compute the 6D Jacobian `tool_Jtool`\n",
    "* compute the control law `vq = pinv(J) @ nu`\n",
    "* integrate the robot velocity `vq` during `DT` to get to a new configuration `q`\n",
    "* log the error by storing it in a list `herr`."
   ]
  },
  {
   "cell_type": "code",
   "execution_count": 509,
   "metadata": {},
   "outputs": [],
   "source": [
    "# Your code\n",
    "\n",
    "q = q0.copy()\n",
    "herr = []\n",
    "for i in range(500):  \n",
    "\n",
    "    pin.framesForwardKinematics(robot.model,robot.data,q)\n",
    "    pin.computeJointJacobians(robot.model,robot.data,q)\n",
    "    oMtool = robot.data.oMf[IDX_TOOL]\n",
    "\n",
    "    toolMgoal = oMtool.inverse() * oMgoal\n",
    "    tool_w = pin.log(toolMgoal).vector\n",
    "\n",
    "    # compute the Jacobian\n",
    "    tool_Jtool = pin.computeFrameJacobian(robot.model, robot.data, q, IDX_TOOL)\n",
    "\n",
    "    nu = tool_w\n",
    "    #compute the control law\n",
    "    vq = pinv(tool_Jtool)@nu\n",
    "\n",
    "    #integrate the robot velocity vq during DT to get to a new configuration q\n",
    "    q = pin.integrate(robot.model,q, vq * DT)\n",
    "    viz.display(q)\n",
    "    time.sleep(1e-3)\n",
    "\n",
    "    herr.append(nu)"
   ]
  },
  {
   "cell_type": "markdown",
   "metadata": {},
   "source": [
    "And the solution:"
   ]
  },
  {
   "cell_type": "code",
   "execution_count": 510,
   "metadata": {},
   "outputs": [],
   "source": [
    "%do_not_load tp2/generated/inverse_kinematics_6d_loop"
   ]
  },
  {
   "cell_type": "markdown",
   "metadata": {},
   "source": [
    "The tool frame $F_{tool}$ converges toward the gooal frame $F_{goal}$: the center and the axes are finally aligned. The trajectory of the tool center is not a straight line, as the frame $F_{tool}$ follows a \"straight\" line, not in $\\mathbb{R}^3$ but in $SE(3)$.\n",
    "We can also plot the error (assuming that herr is a list of the 6D errors herr)."
   ]
  },
  {
   "cell_type": "code",
   "execution_count": 511,
   "metadata": {},
   "outputs": [
    {
     "data": {
      "text/plain": [
       "Text(0, 0.5, 'error (rad)')"
      ]
     },
     "execution_count": 511,
     "metadata": {},
     "output_type": "execute_result"
    },
    {
     "data": {
      "image/png": "[encoded data removed]",
      "text/plain": [
       "<Figure size 640x480 with 2 Axes>"
      ]
     },
     "metadata": {},
     "output_type": "display_data"
    }
   ],
   "source": [
    "plt.subplot(211)\n",
    "plt.plot([ e[:3] for e in herr])\n",
    "plt.xlabel('control cycle (iter)')\n",
    "plt.ylabel('error (m)')\n",
    "plt.subplot(212)\n",
    "plt.plot([ e[3:] for e in herr])\n",
    "plt.xlabel('control cycle (iter)')\n",
    "plt.ylabel('error (rad)')"
   ]
  },
  {
   "cell_type": "markdown",
   "metadata": {},
   "source": [
    "### Inverse kinematics with two tasks\n",
    "\n",
    "So far we controlled the robot with a single task, either the 3D position or 6D placement of the tool frame. Let's see how to take into account a second task: gaze control.\n",
    "\n",
    "#### Gaze control\n",
    "\n",
    "The robot has an additional frame, named $F_{gaze}$, attached to its head and located 40 cm in front of its cameras. The task will be to position (3D) the origin of this frame on an object of interest (a red ball)."
   ]
  },
  {
   "cell_type": "code",
   "execution_count": 512,
   "metadata": {},
   "outputs": [
    {
     "name": "stdout",
     "output_type": "stream",
     "text": [
      "You can open the visualizer by visiting the following URL:\n",
      "http://127.0.0.1:7036/static/\n"
     ]
    }
   ],
   "source": [
    "robot = loadTiago(addGazeFrame=True)\n",
    "viz = MeshcatVisualizer(robot)"
   ]
  },
  {
   "cell_type": "code",
   "execution_count": 513,
   "metadata": {},
   "outputs": [],
   "source": [
    "IDX_GAZE = robot.model.getFrameId('framegaze')\n",
    "\n",
    "# Add a small ball as a visual target to be reached by the robot\n",
    "ball = np.array([ 1.2,0.5,1.1 ])\n",
    "viz.addSphere('ball', .05, [ .8,.1,.5, .8])\n",
    "viz.applyConfiguration('ball', list(ball)+[0,0,0,1])\n",
    "\n",
    "# Add the box again\n",
    "oMgoal = pin.SE3(pin.Quaternion(-0.5, 0.58, -0.39, 0.52).normalized().matrix(), np.array([1.2, .4, .7]))\n",
    "viz.addBox('goal', [.1,.1,.1], [ .1,.1,.5, .6])\n",
    "viz.applyConfiguration('goal', oMgoal)"
   ]
  },
  {
   "cell_type": "code",
   "execution_count": 514,
   "metadata": {},
   "outputs": [
    {
     "data": {
      "text/html": [
       "\n",
       "            <div style=\"height: 400px; width: 100%; overflow-x: auto; overflow-y: hidden; resize: both\">\n",
       "            <iframe src=\"http://127.0.0.1:7036/static/\" style=\"width: 100%; height: 100%; border: none\"></iframe>\n",
       "            </div>\n",
       "            "
      ],
      "text/plain": [
       "<IPython.core.display.HTML object>"
      ]
     },
     "execution_count": 514,
     "metadata": {},
     "output_type": "execute_result"
    }
   ],
   "source": [
    "viz.display(q0)\n",
    "viz.viewer.jupyter_cell()"
   ]
  },
  {
   "cell_type": "markdown",
   "metadata": {},
   "source": [
    "Controlling this point can be done by achieving a simple variation of the control law for positioning (3D) the robot tool:"
   ]
  },
  {
   "cell_type": "code",
   "execution_count": 515,
   "metadata": {},
   "outputs": [],
   "source": [
    "q = q0.copy()\n",
    "herr = [] \n",
    "\n",
    "for i in range(500): \n",
    "\n",
    "    pin.framesForwardKinematics(robot.model,robot.data,q)\n",
    "    pin.computeJointJacobians(robot.model,robot.data,q)\n",
    "\n",
    "    oMGaze= robot.data.oMf[IDX_GAZE]\n",
    "\n",
    "    #compute 6D Jacobian\n",
    "    o_Jgaze3 = pin.computeFrameJacobian(robot.model, robot.data, q, IDX_GAZE,pin.LOCAL_WORLD_ALIGNED)[:3,:]\n",
    "\n",
    "    o_gaze = oMGaze.translation\n",
    "    o_goal = ball\n",
    "\n",
    "    #ball to gaze\n",
    "    o_GG = o_goal - o_gaze\n",
    "\n",
    "    #compute the control law\n",
    "    vq = pinv(o_Jgaze3) @ o_GG\n",
    "\n",
    "    #integrate the robot velocity vq during DT to get to a new configuration q\n",
    "    q = pin.integrate(robot.model,q, vq * DT)\n",
    "    \n",
    "    viz.display(q)\n",
    "    time.sleep(1e-3)\n",
    "\n",
    "    herr.append(o_GG)"
   ]
  },
  {
   "cell_type": "markdown",
   "metadata": {},
   "source": [
    "Here is the solution if you need it."
   ]
  },
  {
   "cell_type": "code",
   "execution_count": 516,
   "metadata": {},
   "outputs": [],
   "source": [
    "%do_not_load tp2/generated/control_head_gaze_loop"
   ]
  },
  {
   "cell_type": "markdown",
   "metadata": {},
   "source": [
    "#### Multi-tasking\n",
    "\n",
    "We now have two tasks: $(e_1, J_1)$ for controlling the tool placement, and $(e_2, J_2)$ for controlling the gaze position. We can use the previous derivation to compute the optimal (in a least square sense) control for task 1:\n",
    "$$\n",
    "\\min_{x\\in \\mathbb{R}^n} \\|J_1 x - v_1^*\\|_2^2\n",
    "$$\n",
    "with solution:\n",
    "$$\n",
    "vq_1 = J_1^+ v_1^*\n",
    "$$\n",
    "\n",
    "We may now add to $vq_1$ any vector that lies is in the nullspace of $J_1$ to perform the second task. We thus search for $vq_2 = vq_1 + dvq_2$, where $dvq_2$ gives an optimal control for task 2 while constraining $dvq_2$ is in the nullspace of $J_1$.\n",
    "$$\n",
    "\\min_{x\\in Ker(J_1)} \\|J_2 (vq_1 + x) - v_2^*\\|_2^2\n",
    "$$\n",
    "The orthogonal nullspace projector of $J_1$ can be computed using the pseudoinverse:\n",
    "$$\n",
    "P_1 = I_{nv} - J_1^+ J_1\n",
    "$$\n",
    "Instead we can solve the problem:\n",
    "$$\n",
    "\\min_{x\\mathbb{R}^n} \\|J_2 (vq_1 + P_1 x) - v_2^*\\|_2^2\n",
    "$$\n",
    "with solution:\n",
    "$$\n",
    "dvq_2 = (J_2 P_1)^+ (v_2^* - J_2 vq_1)\n",
    "$$\n",
    "Finally, the control law to perform task 1 and task 2 in the nullspace of task 1 is:\n",
    "$$\n",
    "vq_2 = J_1^+ v_1^* + P_1 (J_2 P_1)^+ ( v_2^* - J_2 J_1^+ v_1^*)\n",
    "$$"
   ]
  },
  {
   "cell_type": "code",
   "execution_count": 517,
   "metadata": {},
   "outputs": [],
   "source": [
    "q = q0.copy()\n",
    "herr = []\n",
    "herr2 = []\n",
    "\n",
    "# Your code\n",
    "for i in range(500):  \n",
    "\n",
    "    pin.framesForwardKinematics(robot.model,robot.data,q)\n",
    "    pin.computeJointJacobians(robot.model,robot.data,q)\n",
    "\n",
    "    # Task 1 : Tool\n",
    "    oMtool = robot.data.oMf[IDX_TOOL]\n",
    "    tool_Jtool = pin.computeFrameJacobian(robot.model, robot.data, q, IDX_TOOL)\n",
    "    tool_nu = pin.log(oMtool.inverse() * oMgoal).vector\n",
    "    vq_tool = pinv(tool_Jtool)@tool_nu\n",
    "    \n",
    "    # Task 2 : Gaze\n",
    "    oMGaze = robot.data.oMf[IDX_GAZE]\n",
    "    o_Jgaze3 = pin.computeFrameJacobian(robot.model, robot.data, q, IDX_GAZE,pin.LOCAL_WORLD_ALIGNED)[:3,:]\n",
    "\n",
    "    o_gaze = oMGaze.translation\n",
    "    o_goal_gaze = ball\n",
    "\n",
    "    o_GG = o_goal_gaze-o_gaze \n",
    "\n",
    "    #compute the null space projector for the tool task\n",
    "    P1 = np.eye(o_Jtool3.shape[1])-pinv(tool_Jtool) @ tool_Jtool\n",
    "    #Compute vq for the gaze task in the null space of the tool task\n",
    "    Jgaze3_P1 = o_Jgaze3 @ P1\n",
    "    vq_gaze = pinv(Jgaze3_P1) @ (o_GG - o_Jgaze3 @ vq_tool)\n",
    "    \n",
    "    vq = vq_tool + vq_gaze\n",
    "    \n",
    "\n",
    "    #integrate the robot velocity vq during DT to get to a new configuration q\n",
    "    q = pin.integrate(robot.model,q, vq * DT)\n",
    "    \n",
    "    viz.display(q)\n",
    "    time.sleep(1e-3)\n",
    "\n",
    "    herr.append(tool_nu)\n",
    "    herr2.append(o_GG) "
   ]
  },
  {
   "cell_type": "markdown",
   "metadata": {},
   "source": [
    "Here is the solution:"
   ]
  },
  {
   "cell_type": "code",
   "execution_count": 518,
   "metadata": {},
   "outputs": [],
   "source": [
    "%do_not_load tp2/generated/control_head_multi"
   ]
  },
  {
   "cell_type": "code",
   "execution_count": 519,
   "metadata": {},
   "outputs": [
    {
     "data": {
      "text/plain": [
       "Text(0, 0.5, 'error (rad)')"
      ]
     },
     "execution_count": 519,
     "metadata": {},
     "output_type": "execute_result"
    },
    {
     "data": {
      "image/png": "[encoded data removed]",
      "text/plain": [
       "<Figure size 640x480 with 3 Axes>"
      ]
     },
     "metadata": {},
     "output_type": "display_data"
    }
   ],
   "source": [
    "plt.subplot(311)\n",
    "plt.plot([ e[:3] for e in herr])\n",
    "plt.xlabel('control cycle (iter)')\n",
    "plt.ylabel('error (m)')\n",
    "plt.subplot(312)\n",
    "plt.plot([ e[3:] for e in herr])\n",
    "plt.xlabel('control cycle (iter)')\n",
    "plt.ylabel('error (rad)');\n",
    "plt.subplot(313)\n",
    "plt.plot([ e for e in herr2])\n",
    "plt.xlabel('control cycle (iter)')\n",
    "plt.ylabel('error (rad)')"
   ]
  },
  {
   "cell_type": "markdown",
   "metadata": {},
   "source": [
    "## Extension to three tasks"
   ]
  },
  {
   "cell_type": "markdown",
   "metadata": {},
   "source": [
    "Note that the previous reasoning can be extended recursively and we have more than 2 tasks.\n",
    "\n",
    "A third task can be implemented as well by computing the nullspace of the two first tasks:"
   ]
  },
  {
   "cell_type": "code",
   "execution_count": 520,
   "metadata": {},
   "outputs": [],
   "source": [
    "#Pgaze = Ptool - pinv(o_Jgaze3 @ Ptool) @ o_Jgaze3 @ Ptool"
   ]
  },
  {
   "cell_type": "markdown",
   "metadata": {},
   "source": [
    "Load an extra cube in the viewer to figure a table. First, control the robot hand to reach an arbitrary point on the table (don't worry about collisions). Then, implement a control law to control three tasks:\n",
    "* The tool frame should be kept on the table (only the vertical component of the error matters, select the third row of the Jacobian and error accordingly).\n",
    "* The gaze should reach the position of a ball positionned on the table.\n",
    "* The center of the mobile base frame should reach a given goal on the floor. For this task, only the horizontal components (x- and y-) of the task matter, select only the first two rows of the Jacobian and error accordingly."
   ]
  },
  {
   "cell_type": "code",
   "execution_count": 521,
   "metadata": {},
   "outputs": [
    {
     "name": "stdout",
     "output_type": "stream",
     "text": [
      "You can open the visualizer by visiting the following URL:\n",
      "http://127.0.0.1:7037/static/\n"
     ]
    }
   ],
   "source": [
    "robot = loadTiago(addGazeFrame=True)\n",
    "viz = MeshcatVisualizer(robot)"
   ]
  },
  {
   "cell_type": "code",
   "execution_count": 522,
   "metadata": {},
   "outputs": [
    {
     "data": {
      "text/html": [
       "\n",
       "            <div style=\"height: 400px; width: 100%; overflow-x: auto; overflow-y: hidden; resize: both\">\n",
       "            <iframe src=\"http://127.0.0.1:7037/static/\" style=\"width: 100%; height: 100%; border: none\"></iframe>\n",
       "            </div>\n",
       "            "
      ],
      "text/plain": [
       "<IPython.core.display.HTML object>"
      ]
     },
     "execution_count": 522,
     "metadata": {},
     "output_type": "execute_result"
    }
   ],
   "source": [
    "viz.display(q0)\n",
    "viz.viewer.jupyter_cell()"
   ]
  },
  {
   "cell_type": "code",
   "execution_count": 523,
   "metadata": {},
   "outputs": [
    {
     "data": {
      "image/png": "[encoded data removed]",
      "text/plain": [
       "<Figure size 1000x600 with 3 Axes>"
      ]
     },
     "metadata": {},
     "output_type": "display_data"
    }
   ],
   "source": [
    "table_height = 0.6\n",
    "\n",
    "#table \n",
    "table_goal = pin.SE3(pin.Quaternion(0.5, 0.5, 0.5, 0.5).normalized().matrix(), np.array([1.3, 0.5, table_height]))\n",
    "viz.addBox('goal', [1.0, 0.01, .7], [0.5, 1, 0.5, 0.5])\n",
    "viz.applyConfiguration('goal', table_goal)\n",
    "\n",
    "#ball position on the table that gaze should point at\n",
    "ball_pos = np.array([1.2, 0.5, table_height + 0.05])\n",
    "viz.addSphere('ball', .05, [0.8, 0.1, 0.5, 0.8])\n",
    "viz.applyConfiguration('ball', list(ball_pos) + [0, 0, 0, 1])\n",
    "\n",
    "#goal position on the floor for the base\n",
    "base_goal_pos = np.array([1.0, 0.3, 0.0])\n",
    "viz.addBox('box', [.1, .1, .1], [1, 0.5, 0.5, 0.5])\n",
    "viz.applyConfiguration('box', list(base_goal_pos)+ [0, 0, 0, 1])\n",
    "\n",
    "q = q0.copy()\n",
    "herr_tool, herr_gaze, herr_base = [], [], []\n",
    "\n",
    "for i in range(500):\n",
    "\n",
    "    pin.framesForwardKinematics(robot.model,robot.data,q)\n",
    "    pin.computeJointJacobians(robot.model,robot.data,q)\n",
    "\n",
    "    oMgaze = robot.data.oMf[IDX_GAZE]\n",
    "    oMtool = robot.data.oMf[IDX_TOOL]\n",
    "    oMbasis = robot.data.oMf[IDX_BASIS]\n",
    "\n",
    "    # Task 1: Tool on table (only Z-axis control)\n",
    "    # + 0.05 because of the thickness of the table\n",
    "    tool_error_z = np.array([0, 0, table_height + 0.05 - oMtool.translation[2]])  #only Z-axis\n",
    "    # Z-axis row only\n",
    "    J_tool = pin.computeFrameJacobian(robot.model, robot.data, q, IDX_TOOL, pin.LOCAL_WORLD_ALIGNED)[2:3,:]  \n",
    "    vq_tool = pinv(J_tool) @ np.array([tool_error_z[2]])\n",
    "\n",
    "    # Task 2: gaze control to look at the ball on the table\n",
    "    J_gaze = pin.computeFrameJacobian(robot.model, robot.data, q, IDX_GAZE, pin.LOCAL_WORLD_ALIGNED)[:3, :]\n",
    "    gaze_err = ball_pos - oMgaze.translation\n",
    "    P_tool = np.eye(robot.model.nv) - pinv(J_tool) @ J_tool\n",
    "    vq_gaze = pinv(J_gaze @ P_tool) @ (gaze_err - J_gaze @ vq_tool)\n",
    "\n",
    "    # Task 3: base control to reach a goal on the floor\n",
    "    J_base = pin.computeFrameJacobian(robot.model, robot.data, q, IDX_BASIS, pin.LOCAL_WORLD_ALIGNED)[:2, :]  #only x, y\n",
    "    base_err_xy = base_goal_pos[:2] - oMbasis.translation[:2]  \n",
    "    P_gaze = np.eye(robot.model.nv) - pinv(J_gaze @ P_tool) @ (J_gaze @ P_tool) \n",
    "    vq_base = pinv(J_base @ P_gaze) @ (base_err_xy - J_base @ (vq_tool + P_tool @ vq_gaze))\n",
    "\n",
    "    #combine controls for all tasks\n",
    "    vq = vq_tool + P_tool @ vq_gaze + P_gaze @ vq_base\n",
    "\n",
    "    #integrate the robot velocity vq during DT to get to a new configuration q\n",
    "    q = pin.integrate(robot.model, q, vq * DT)\n",
    "    viz.display(q)\n",
    "    time.sleep(1e-3)\n",
    "\n",
    "    # save errors\n",
    "    herr_tool.append(tool_error_z)  \n",
    "    herr_gaze.append(gaze_err)      \n",
    "    herr_base.append(base_err_xy)   \n",
    "\n",
    "# Plot \n",
    "plt.figure(figsize=(10, 6))\n",
    "\n",
    "plt.subplot(411)\n",
    "plt.plot([ e for e in herr_tool])\n",
    "plt.xlabel('control cycle (iter)')\n",
    "plt.ylabel('Tool error (m)')\n",
    "\n",
    "plt.subplot(412)\n",
    "plt.plot([e for e in herr_gaze], label='Gaze Error')\n",
    "plt.xlabel('control cycle (iter)')\n",
    "plt.ylabel('Gaze error (m)')\n",
    "\n",
    "plt.subplot(413)\n",
    "plt.plot([e for e in herr_base], label='Base Error')\n",
    "plt.xlabel('control cycle (iter)')\n",
    "plt.ylabel('Base error (m)')\n",
    "\n",
    "\n",
    "plt.tight_layout()\n",
    "plt.show()\n"
   ]
  },
  {
   "cell_type": "markdown",
   "metadata": {},
   "source": [
    "Congratulations! You just implemented a local optimal controller that can solve multiple tasks at once."
   ]
  }
 ],
 "metadata": {
  "kernelspec": {
   "display_name": "Python 3 (ipykernel)",
   "language": "python",
   "name": "python3"
  },
  "language_info": {
   "codemirror_mode": {
    "name": "ipython",
    "version": 3
   },
   "file_extension": ".py",
   "mimetype": "text/x-python",
   "name": "python",
   "nbconvert_exporter": "python",
   "pygments_lexer": "ipython3",
   "version": "3.10.15"
  }
 },
 "nbformat": 4,
 "nbformat_minor": 4
}
